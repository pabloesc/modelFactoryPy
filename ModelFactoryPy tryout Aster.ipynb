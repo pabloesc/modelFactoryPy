{
 "cells": [
  {
   "cell_type": "code",
   "execution_count": 8,
   "metadata": {
    "collapsed": false
   },
   "outputs": [],
   "source": [
    "import sqlalchemy_aster as sqlalchemy\n",
    "import pandas as pd\n",
    "import os\n",
    "import ruamel.yaml as yaml"
   ]
  },
  {
   "cell_type": "code",
   "execution_count": 5,
   "metadata": {
    "collapsed": false
   },
   "outputs": [
    {
     "data": {
      "text/plain": [
       "{'aster': {'host': '10.68.162.52:2406',\n",
       "  'password': 'kpn123',\n",
       "  'username': 'vecht499'},\n",
       " 'postgres': {'host': 'localhost:5432',\n",
       "  'password': 'masha2807',\n",
       "  'username': 'postgres'}}"
      ]
     },
     "execution_count": 5,
     "metadata": {},
     "output_type": "execute_result"
    }
   ],
   "source": [
    "yaml.load(open(os.environ['MODELFACTORY']+\"\\\\config.yaml\"))"
   ]
  },
  {
   "cell_type": "code",
   "execution_count": 9,
   "metadata": {
    "collapsed": true
   },
   "outputs": [],
   "source": [
    "def getConnection():\n",
    "    global config\n",
    "    global engine\n",
    "    config = yaml.load(open(os.environ['MODELFACTORY']+\"\\\\config.yaml\")) ## needs to be changed\n",
    "    engine = sqlalchemy.create_engine(\"aster://\"+config.get('aster').get('username')+\":\"+\n",
    "                                      config.get('aster').get('password')+\"@\"+config.get('postgres').get('host')+\"/beehive\")\n",
    "    return engine"
   ]
  },
  {
   "cell_type": "code",
   "execution_count": 10,
   "metadata": {
    "collapsed": false
   },
   "outputs": [
    {
     "ename": "AttributeError",
     "evalue": "'module' object has no attribute 'create_engine'",
     "output_type": "error",
     "traceback": [
      "\u001b[1;31m---------------------------------------------------------------------------\u001b[0m",
      "\u001b[1;31mAttributeError\u001b[0m                            Traceback (most recent call last)",
      "\u001b[1;32m<ipython-input-10-6334d3b986f4>\u001b[0m in \u001b[0;36m<module>\u001b[1;34m()\u001b[0m\n\u001b[1;32m----> 1\u001b[1;33m \u001b[0mgetConnection\u001b[0m\u001b[1;33m(\u001b[0m\u001b[1;33m)\u001b[0m\u001b[1;33m\u001b[0m\u001b[0m\n\u001b[0m",
      "\u001b[1;32m<ipython-input-9-4e1783be86f5>\u001b[0m in \u001b[0;36mgetConnection\u001b[1;34m()\u001b[0m\n\u001b[0;32m      3\u001b[0m     \u001b[1;32mglobal\u001b[0m \u001b[0mengine\u001b[0m\u001b[1;33m\u001b[0m\u001b[0m\n\u001b[0;32m      4\u001b[0m     \u001b[0mconfig\u001b[0m \u001b[1;33m=\u001b[0m \u001b[0myaml\u001b[0m\u001b[1;33m.\u001b[0m\u001b[0mload\u001b[0m\u001b[1;33m(\u001b[0m\u001b[0mopen\u001b[0m\u001b[1;33m(\u001b[0m\u001b[0mos\u001b[0m\u001b[1;33m.\u001b[0m\u001b[0menviron\u001b[0m\u001b[1;33m[\u001b[0m\u001b[1;34m'MODELFACTORY'\u001b[0m\u001b[1;33m]\u001b[0m\u001b[1;33m+\u001b[0m\u001b[1;34m\"\\\\config.yaml\"\u001b[0m\u001b[1;33m)\u001b[0m\u001b[1;33m)\u001b[0m \u001b[1;31m## needs to be changed\u001b[0m\u001b[1;33m\u001b[0m\u001b[0m\n\u001b[1;32m----> 5\u001b[1;33m     engine = sqlalchemy.create_engine(\"aster://\"+config.get('aster').get('username')+\":\"+\n\u001b[0m\u001b[0;32m      6\u001b[0m                                       config.get('aster').get('password')+\"@\"+config.get('postgres').get('host')+\"/beehive\")\n\u001b[0;32m      7\u001b[0m     \u001b[1;32mreturn\u001b[0m \u001b[0mengine\u001b[0m\u001b[1;33m\u001b[0m\u001b[0m\n",
      "\u001b[1;31mAttributeError\u001b[0m: 'module' object has no attribute 'create_engine'"
     ]
    }
   ],
   "source": [
    "getConnection()"
   ]
  },
  {
   "cell_type": "code",
   "execution_count": 93,
   "metadata": {
    "collapsed": true
   },
   "outputs": [],
   "source": [
    "def getSessionId(model_id):\n",
    "    session_id = config.get('postgres').get('username')+\"_\"+model_id+\"_\"+datetime.datetime.fromtimestamp(time.time()).strftime('%Y%m%d')+\"_\"+str(randint(1000, 1000000))\n",
    "    df = pd.DataFrame(zip([session_id], [config.get('postgres').get('username')], [model_id], [datetime.datetime.now().strftime('%Y-%m-%d %H:%M:%S')])\n",
    "             , columns=['session_id','user_id', 'model_id', 'start_time'])\n",
    "    df.to_sql(\"run_history\", engine,  schema=\"model_factory\", if_exists='append', index = False) ## it will add rows to run_history table\n",
    "    return [session_id, df]\n",
    "\n",
    "## add error statements like R version has"
   ]
  },
  {
   "cell_type": "code",
   "execution_count": 98,
   "metadata": {
    "collapsed": false
   },
   "outputs": [],
   "source": [
    "#model_id = \"try\"\n",
    "#engine = getConnection()\n",
    "#getSessionId(model_id)[1].to_sql(\"run_history\", engine,  schema=\"model_factory\", if_exists='append', index = False)"
   ]
  }
 ],
 "metadata": {
  "kernelspec": {
   "display_name": "Python 2",
   "language": "python",
   "name": "python2"
  },
  "language_info": {
   "codemirror_mode": {
    "name": "ipython",
    "version": 2
   },
   "file_extension": ".py",
   "mimetype": "text/x-python",
   "name": "python",
   "nbconvert_exporter": "python",
   "pygments_lexer": "ipython2",
   "version": "2.7.12"
  }
 },
 "nbformat": 4,
 "nbformat_minor": 0
}
