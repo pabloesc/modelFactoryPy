{
 "cells": [
  {
   "cell_type": "code",
   "execution_count": 2,
   "metadata": {
    "collapsed": false
   },
   "outputs": [],
   "source": [
    "import os\n",
    "import sqlalchemy\n",
    "import ruamel.yaml as yaml\n",
    "import pandas as pd\n",
    "import time\n",
    "import datetime\n",
    "from random import randint\n",
    "import getpass"
   ]
  },
  {
   "cell_type": "code",
   "execution_count": 7,
   "metadata": {
    "collapsed": false
   },
   "outputs": [],
   "source": [
    "def getConnection():\n",
    "    global config\n",
    "    global engine\n",
    "    config = yaml.load(open(os.environ['MODELFACTORY']+\"\\\\config.yaml\")) ## needs to be changed\n",
    "    engine = sqlalchemy.create_engine(\"postgresql://\"+config.get('postgres').get('username')+\":\"+\n",
    "                                      config.get('postgres').get('password')+\"@\"+config.get('postgres').get('host')+\"/postgres\")\n",
    "    return engine\n",
    "## here add extra options (getConnection to TD/postgressql; if statements: Jenkins user or normal user; streamAPI option)\n",
    "#getpass.getuser()"
   ]
  },
  {
   "cell_type": "code",
   "execution_count": 3,
   "metadata": {
    "collapsed": false
   },
   "outputs": [],
   "source": [
    "def addModelId(model_id, model_description, score_id_type):\n",
    "    check_model_id = pd.read_sql(\"select * from model_factory.model_overview where model_id='\"+model_id+\"'\", engine)\n",
    "    if len(check_model_id) > 0:\n",
    "        raise ValueError('Given model_id is already present in model_factory.model_overview table')\n",
    "    else:\n",
    "        df = pd.DataFrame(zip([model_id], [model_description], [score_id_type])\n",
    "             , columns=['model_id','model_description', 'score_id_type'])\n",
    "        df.to_sql(\"model_overview\", engine,  schema=\"model_factory\", if_exists='append', index = False) ## it will add rows to model_overview table      "
   ]
  },
  {
   "cell_type": "code",
   "execution_count": 4,
   "metadata": {
    "collapsed": true
   },
   "outputs": [],
   "source": [
    "def deleteModelId(model_id):\n",
    "    check_model_id = pd.read_sql(\"select * from model_factory.model_overview where model_id='\"+model_id+\"'\", engine)\n",
    "    if len(check_model_id) == 0:\n",
    "        raise ValueError('Given model_id is already removed from model_factory.model_overview table')\n",
    "    else:\n",
    "        connection = engine.connect()\n",
    "        connection.execute(\"delete from model_factory.model_overview where model_id='\"+model_id+\"'\")\n",
    "        connection.close()"
   ]
  },
  {
   "cell_type": "code",
   "execution_count": 5,
   "metadata": {
    "collapsed": true
   },
   "outputs": [],
   "source": [
    "def updateThreshold(model_id, threshold_value, threshold_type):\n",
    "    check_model_id = pd.read_sql(\"select * from model_factory.model_overview where model_id='\"+model_id+\"'\", engine)\n",
    "    if len(check_model_id) == 0:\n",
    "        raise ValueError('Given model_id is not present in model_factory.model_overview table. Please use function addModelId first')\n",
    "    else:\n",
    "        if (threshold_type != \"probability\" and threshold_type != \"population\"):\n",
    "            raise ValueError('Given threshold type is not population or probability')\n",
    "        else:\n",
    "            connection = engine.connect()\n",
    "            connection.execute(\"update model_factory.model_overview set threshold_value='\"+threshold_value+\"', threshold_type='\"+\n",
    "                               threshold_type+\"' where model_id='\"+model_id+\"'\")\n",
    "            connection.close()"
   ]
  },
  {
   "cell_type": "code",
   "execution_count": 6,
   "metadata": {
    "collapsed": false
   },
   "outputs": [],
   "source": [
    "def getSessionId(model_id):\n",
    "    global session_id\n",
    "    ## check whether model_id is present in model_overview table -> throw an error if not\n",
    "    check_model_id = pd.read_sql(\"select * from model_factory.model_overview where model_id='\"+model_id+\"'\", engine)\n",
    "    if len(check_model_id) == 0:\n",
    "        raise ValueError('Given model_id is not present in model_factory.model_overview table. Please use function addModelId first')\n",
    "    else:\n",
    "        session_id = config.get('postgres').get('username')+\"_\"+model_id+\"_\"+datetime.datetime.fromtimestamp(time.time()).strftime('%Y%m%d')+\"_\"+str(randint(1000, 1000000))\n",
    "        df = pd.DataFrame(zip([session_id], [config.get('postgres').get('username')], [model_id], [datetime.datetime.now().strftime('%Y-%m-%d %H:%M:%S')])\n",
    "                 , columns=['session_id','user_id', 'model_id', 'start_time'])\n",
    "        df.to_sql(\"run_history\", engine,  schema=\"model_factory\", if_exists='append', index = False) ## it will add rows to run_history table\n",
    "        return session_id"
   ]
  },
  {
   "cell_type": "code",
   "execution_count": 7,
   "metadata": {
    "collapsed": true
   },
   "outputs": [],
   "source": [
    "def closeSession():\n",
    "    connection = engine.connect()\n",
    "    connection.execute(\"update model_factory.run_history  SET end_time ='\"+str(datetime.datetime.now().strftime('%Y-%m-%d %H:%M:%S'))+\"' where session_id='\"\n",
    "                       +session_id+\"'\")\n",
    "    connection.close()   \n",
    "## add streamAPI option"
   ]
  },
  {
   "cell_type": "code",
   "execution_count": null,
   "metadata": {
    "collapsed": true
   },
   "outputs": [],
   "source": [
    "def deleteSession(session_id):\n",
    "    connection = engine.connect()\n",
    "    try:\n",
    "        connection.execute(\"delete from model_factory.model_summary WHERE session_id='\"+session_id+\"'\")\n",
    "    except:\n",
    "        pass\n",
    "    try:\n",
    "        connection.execute(\"delete from model_factory.model_scores WHERE session_id='\"+session_id+\"'\")\n",
    "    except:\n",
    "        pass\n",
    "    try:\n",
    "        connection.execute(\"delete from model_factory.model_test_results WHERE session_id='\"+session_id+\"'\")\n",
    "    except:\n",
    "        pass\n",
    "    try:\n",
    "        connection.execute(\"delete from model_factory.model_backtesting WHERE session_id='\"+session_id+\"'\")\n",
    "    except:\n",
    "        pass\n",
    "    try:\n",
    "        connection.execute(\"delete from model_factory.metadata_table WHERE session_id='\"+session_id+\"'\")\n",
    "    except:\n",
    "        pass\n",
    "    try:\n",
    "        connection.execute(\"delete from model_factory.run_history WHERE session_id='\"+session_id+\"'\")\n",
    "    except:\n",
    "        pass\n",
    "    connection.close()"
   ]
  },
  {
   "cell_type": "code",
   "execution_count": null,
   "metadata": {
    "collapsed": true
   },
   "outputs": [],
   "source": [
    "def renameModel(old_model_id, new_model_id):\n",
    "    \n",
    "    connection = engine.connect()\n",
    "    \n",
    "    check_old_model_id = pd.read_sql(\"select * from model_factory.model_overview where model_id='\"+old_model_id+\"'\", engine)\n",
    "    check_old_model_id1 = pd.read_sql(\"select * from model_factory.run_history where model_id='\"+old_model_id+\"'\", engine)\n",
    "    check_new_model_id = pd.read_sql(\"select * from model_factory.model_overview where model_id='\"+new_model_id+\"'\", engine)\n",
    "    \n",
    "    if len(check_old_model_id) == 0:\n",
    "        raise ValueError('Given old_model_id is not present in model_factory.model_overview table, therefore can not be renamed')\n",
    "    if len(check_new_model_id) > 0:\n",
    "        raise ValueError('Given new_model_id is already present in model_factory.model_overview table, therefore can not be used for renaming')\n",
    "    if (len(check_old_model_id) > 0 and len(check_old_model_id1) == 0):\n",
    "        try:\n",
    "            connection.execute(\"Update model_factory.model_overview set model_id='\"+new_model_id+\"' where model_id=\"+old_model_id+\"'\")\n",
    "        except:\n",
    "            pass\n",
    "    else:\n",
    "        try:\n",
    "            connection.execute(\"update model_factory.model_scores set session_id= replace(session_id,'_\"\n",
    "                               +old_model_id+\"_','_\"+new_model_id+\"_') where session_id like '%_\"+old_model_id+\"_%'\")\n",
    "        except:\n",
    "            pass\n",
    "        try:\n",
    "            connection.execute(\"update model_factory.metadata_table set session_id= replace(session_id,'_\"\n",
    "                               +old_model_id+\"_','_\"+new_model_id+\"_') where session_id like '%_\"+old_model_id+\"_%'\")\n",
    "        except:\n",
    "            pass\n",
    "        try:\n",
    "            connection.execute(\"update model_factory.model_backtesting set session_id= replace(session_id,'_\"\n",
    "                               +old_model_id+\"_','_\"+new_model_id+\"_') where session_id like '%_\"+old_model_id+\"_%'\")\n",
    "        except:\n",
    "            pass\n",
    "        try:\n",
    "            connection.execute(\"update model_factory.model_summary set session_id= replace(session_id,'_\"\n",
    "                               +old_model_id+\"_','_\"+new_model_id+\"_') where session_id like '%_\"+old_model_id+\"_%'\")\n",
    "        except:\n",
    "            pass\n",
    "        try:\n",
    "            connection.execute(\"update model_factory.model_store set session_id= replace(session_id,'_\"\n",
    "                               +old_model_id+\"_','_\"+new_model_id+\"_') where session_id like '%_\"+old_model_id+\"_%'\")\n",
    "        except:\n",
    "            pass\n",
    "        try:\n",
    "            connection.execute(\"update model_factory.model_test_results set session_id= replace(session_id,'_\"\n",
    "                               +old_model_id+\"_','_\"+new_model_id+\"_') where session_id like '%_\"+old_model_id+\"_%'\")\n",
    "        except:\n",
    "            pass\n",
    "        try:\n",
    "            connection.execute(\"update model_factory.model_varimp set session_id= replace(session_id,'_\"\n",
    "                               +old_model_id+\"_','_\"+new_model_id+\"_') where session_id like '%_\"+old_model_id+\"_%'\")\n",
    "        except:\n",
    "            pass\n",
    "        try:\n",
    "            connection.execute(\"insert into model_factory.run_history select replace(session_id,'_\"\n",
    "                               +old_model_id+\"_','_\"+new_model_id+\"_') as session_id, user_id, '\"+new_model_id+\n",
    "                               \"' as model_id, start_time, end_time, last_exported from model_factory.run_history where model_id='\"+\n",
    "                               old_model_id+\"'\")\n",
    "        except:\n",
    "            pass\n",
    "        try:\n",
    "            connection.execute(\"delete from model_factory.run_history where model_id='\"+old_model_id+\"'\")\n",
    "        except:\n",
    "            pass\n",
    "        try:\n",
    "            connection.execute(\"update model_factory.model_overview set model_id='\"+new_model_id+\"' where model_id='\"+old_model_id+\"'\")\n",
    "        except:\n",
    "            pass                                                                   "
   ]
  },
  {
   "cell_type": "code",
   "execution_count": 64,
   "metadata": {
    "collapsed": false
   },
   "outputs": [],
   "source": [
    "def getSummary(df):\n",
    "    n_na = []\n",
    "    a = df.describe().transpose()[[\"mean\",\"std\",\"50%\",\"min\",\"max\",\"count\"]]\n",
    "    a = a.rename(columns = {'std':'sd','50%':'median','count':'n'})\n",
    "    for i in a.index:\n",
    "        n_na.append(len(df[i])-df[i].count())\n",
    "    a[\"n_na\"] = n_na\n",
    "    a[\"variable\"] = a.index\n",
    "    return a.reset_index(drop = True)"
   ]
  },
  {
   "cell_type": "code",
   "execution_count": 66,
   "metadata": {
    "collapsed": false
   },
   "outputs": [],
   "source": [
    "def storeSummary(summary):\n",
    "    summary[\"session_id\"] = session_id\n",
    "    summary.to_sql(\"model_summary\", engine,  schema=\"model_factory\", if_exists='append', index = False) ## it will add rows to model_summary table"
   ]
  },
  {
   "cell_type": "code",
   "execution_count": 193,
   "metadata": {
    "collapsed": false
   },
   "outputs": [],
   "source": [
    "def pullSummary(session_id):\n",
    "    if type(session_id) == list:\n",
    "        session_id = str(session_id).replace('[','').replace(']','')\n",
    "        check_session_id = pd.read_sql(\"select * from model_factory.model_summary where session_id in (\"+session_id+\")\", engine)\n",
    "    if type(session_id) == str:\n",
    "        check_session_id = pd.read_sql(\"select * from model_factory.model_summary where session_id in ('\"+session_id+\"')\", engine)\n",
    "    else:\n",
    "        raise ValueError('Session id must be of type list or str')\n",
    "    if len(check_session_id) > 0:\n",
    "        return check_session_id       \n",
    "    else:\n",
    "        raise ValueError('Given session_id is not present in model_factory.model_summary table')   "
   ]
  },
  {
   "cell_type": "code",
   "execution_count": 188,
   "metadata": {
    "collapsed": false
   },
   "outputs": [],
   "source": [
    "def getTestResults(scores,labels):\n",
    "    a = pd.DataFrame(zip(scores,labels),columns=['score','label'])\n",
    "    a = a.sort('score', ascending = 0)\n",
    "    a[\"population\"]=(a.index+1)/float(len(a))\n",
    "    a[\"target_population\"] = np.cumsum(a[\"label\"])/sum(a[\"label\"])\n",
    "    a[\"true_positives\"] = np.cumsum(a[\"label\"])\n",
    "    a[\"false_positives\"] = a.index+1 - a[\"true_positives\"]\n",
    "    a[\"true_negatives\"] = len(a) - sum(a[\"label\"]) - a[\"false_positives\"]\n",
    "    a[\"false_negatives\"] = sum(a[\"label\"]) - np.cumsum(a[\"label\"])\n",
    "    return a"
   ]
  },
  {
   "cell_type": "code",
   "execution_count": 145,
   "metadata": {
    "collapsed": true
   },
   "outputs": [],
   "source": [
    "def getROC(scores,labels):\n",
    "    tr = getTestResults(scores,labels)\n",
    "    tr[\"true_positive_rate\"] = (tr[\"true_positives\"])/(tr[\"true_positives\"]+tr[\"false_negatives\"])\n",
    "    tr[\"false_positive_rate\"] = (tr[\"false_positives\"])/(tr[\"false_positives\"]+tr[\"true_negatives\"])\n",
    "    roc_line = tr[[\"population\",\"true_positive_rate\",\"false_positive_rate\"]]\n",
    "    return roc_line"
   ]
  },
  {
   "cell_type": "code",
   "execution_count": 147,
   "metadata": {
    "collapsed": true
   },
   "outputs": [],
   "source": [
    "def getLiftChart(scores,labels):\n",
    "    tr = getTestResults(scores,labels)\n",
    "    lift_chart = tr[[\"population\",\"target_population\"]]\n",
    "    return lift_chart"
   ]
  },
  {
   "cell_type": "code",
   "execution_count": 173,
   "metadata": {
    "collapsed": true
   },
   "outputs": [],
   "source": [
    "def getConfMatrix(scores, labels, threshold_value, threshold_type):\n",
    "    tr = getTestResults(scores,labels)\n",
    "    if threshold_type == \"population\":\n",
    "        tr = tr[tr.population <= threshold_value].tail(1)\n",
    "    if threshold_type == \"probability\":\n",
    "        tr = tr[tr.score >= threshold_value].tail(1)\n",
    "    conf_m = pd.DataFrame(zip(tr.true_positives.tolist()+tr.false_positives.tolist(),\n",
    "                              tr.false_negatives.tolist()+tr.true_negatives.tolist()),\n",
    "                          columns = ['predicted_positives','predicted_negatives'])\n",
    "    conf_m.index = ['actual_positives','actual_negatives']\n",
    "    return conf_m"
   ]
  },
  {
   "cell_type": "code",
   "execution_count": 179,
   "metadata": {
    "collapsed": true
   },
   "outputs": [],
   "source": [
    "def getAccuracy(scores, labels, threshold_value, threshold_type):\n",
    "    tr = getTestResults(scores,labels)\n",
    "    if threshold_type == \"population\":\n",
    "        tr1 = tr[tr.population <= threshold_value].tail(1)\n",
    "    if threshold_type == \"probability\":\n",
    "        tr1 = tr[tr.score >= threshold_value].tail(1)\n",
    "    accuracy = float(tr1[\"true_positives\"]+tr1[\"true_negatives\"])/len(tr)\n",
    "    return accuracy"
   ]
  },
  {
   "cell_type": "code",
   "execution_count": 186,
   "metadata": {
    "collapsed": true
   },
   "outputs": [],
   "source": [
    "def storeTestResults(test_results):\n",
    "    test_results[\"session_id\"] = session_id\n",
    "    test_results.to_sql(\"model_test_results\", engine,  schema=\"model_factory\", if_exists='append', index = False)\n",
    "    ## it will add rows to model_test_results"
   ]
  },
  {
   "cell_type": "code",
   "execution_count": 194,
   "metadata": {
    "collapsed": false
   },
   "outputs": [],
   "source": [
    "def pullTestResults(session_id):\n",
    "    if type(session_id) == list:\n",
    "        session_id = str(session_id).replace('[','').replace(']','')\n",
    "        check_session_id = pd.read_sql(\"select * from model_factory.model_test_results where session_id in (\"+session_id+\")\", engine)\n",
    "    if type(session_id) == str:\n",
    "        check_session_id = pd.read_sql(\"select * from model_factory.model_test_results where session_id in ('\"+session_id+\"')\", engine)\n",
    "    else:\n",
    "        raise ValueError('Session id must be of type list or str')\n",
    "    if len(check_session_id) > 0:\n",
    "        return check_session_id       \n",
    "    else:\n",
    "        raise ValueError('Given session_id is not present in model_factory.model_test_results table')  "
   ]
  },
  {
   "cell_type": "code",
   "execution_count": 197,
   "metadata": {
    "collapsed": true
   },
   "outputs": [],
   "source": [
    "def pullROC(session_id):\n",
    "    tr = pullTestResults(session_id)\n",
    "    tr[\"true_positive_rate\"] = (tr[\"true_positives\"])/(tr[\"true_positives\"]+tr[\"false_negatives\"])\n",
    "    tr[\"false_positive_rate\"] = (tr[\"false_positives\"])/(tr[\"false_positives\"]+tr[\"true_negatives\"])\n",
    "    roc_line = tr[[\"population\",\"true_positive_rate\",\"false_positive_rate\",\"session_id\"]]\n",
    "    return roc_line"
   ]
  },
  {
   "cell_type": "code",
   "execution_count": 199,
   "metadata": {
    "collapsed": true
   },
   "outputs": [],
   "source": [
    "def pullLiftChart(session_id):\n",
    "    tr = pullTestResults(session_id)\n",
    "    lift_chart = tr[[\"population\",\"target_population\",\"session_id\"]]\n",
    "    return lift_chart"
   ]
  },
  {
   "cell_type": "code",
   "execution_count": 205,
   "metadata": {
    "collapsed": true
   },
   "outputs": [],
   "source": [
    "def pullConfMatrix(session_id, threshold_value, threshold_type):\n",
    "    if type(session_id) != str:\n",
    "         raise ValueError('Session id must be of type str')\n",
    "    else:    \n",
    "        check_session_id = pd.read_sql(\"select * from model_factory.model_test_results where session_id in ('\"+session_id+\"')\", engine)\n",
    "    if len(check_session_id) > 0:\n",
    "        tr = check_session_id       \n",
    "    else:\n",
    "        raise ValueError('Given session_id is not present in model_factory.model_test_results table') \n",
    "    if threshold_type == \"population\":\n",
    "        tr = tr[tr.population <= threshold_value].tail(1)\n",
    "    if threshold_type == \"probability\":\n",
    "        tr = tr[tr.score >= threshold_value].tail(1)\n",
    "    conf_m = pd.DataFrame(zip(tr.true_positives.tolist()+tr.false_positives.tolist(),\n",
    "                              tr.false_negatives.tolist()+tr.true_negatives.tolist()),\n",
    "                          columns = ['predicted_positives','predicted_negatives'])\n",
    "    conf_m.index = ['actual_positives','actual_negatives']\n",
    "    return conf_m"
   ]
  },
  {
   "cell_type": "code",
   "execution_count": 201,
   "metadata": {
    "collapsed": true
   },
   "outputs": [],
   "source": [
    "def pullAccuracy(session_id, threshold_value, threshold_type):\n",
    "    if type(session_id) != str:\n",
    "         raise ValueError('Session id must be of type str')\n",
    "    else:    \n",
    "        check_session_id = pd.read_sql(\"select * from model_factory.model_test_results where session_id in ('\"+session_id+\"')\", engine)\n",
    "    if len(check_session_id) > 0:\n",
    "        tr = check_session_id       \n",
    "    else:\n",
    "        raise ValueError('Given session_id is not present in model_factory.model_test_results table') \n",
    "    if threshold_type == \"population\":\n",
    "        tr1 = tr[tr.population <= threshold_value].tail(1)\n",
    "    if threshold_type == \"probability\":\n",
    "        tr1 = tr[tr.score >= threshold_value].tail(1)\n",
    "    accuracy = float(tr1[\"true_positives\"]+tr1[\"true_negatives\"])/len(tr)\n",
    "    return accuracy"
   ]
  },
  {
   "cell_type": "code",
   "execution_count": 202,
   "metadata": {
    "collapsed": true
   },
   "outputs": [],
   "source": [
    "def storeModelScores(ids, scores):\n",
    "    scores_df = pd.DataFrame(zip(ids, scores),columns=['id','scores'])\n",
    "    scores_df[\"session_id\"] = session_id\n",
    "    scores_df.to_sql(\"model_scores\", engine,  schema=\"model_factory\", if_exists='append', index = False) ## it will add rows to model_scores"
   ]
  },
  {
   "cell_type": "code",
   "execution_count": null,
   "metadata": {
    "collapsed": true
   },
   "outputs": [],
   "source": [
    "def pullModelScores(session_id):\n",
    "    if type(session_id) == list:\n",
    "        session_id = str(session_id).replace('[','').replace(']','')\n",
    "        check_session_id = pd.read_sql(\"select * from model_factory.model_scores where session_id in (\"+session_id+\")\", engine)\n",
    "    if type(session_id) == str:\n",
    "        check_session_id = pd.read_sql(\"select * from model_factory.model_scores where session_id in ('\"+session_id+\"')\", engine)\n",
    "    else:\n",
    "        raise ValueError('Session id must be of type list or str')\n",
    "    if len(check_session_id) > 0:\n",
    "        return check_session_id       \n",
    "    else:\n",
    "        raise ValueError('Given session_id is not present in model_factory.model_scores table')   "
   ]
  }
 ],
 "metadata": {
  "kernelspec": {
   "display_name": "Python 2",
   "language": "python",
   "name": "python2"
  },
  "language_info": {
   "codemirror_mode": {
    "name": "ipython",
    "version": 2
   },
   "file_extension": ".py",
   "mimetype": "text/x-python",
   "name": "python",
   "nbconvert_exporter": "python",
   "pygments_lexer": "ipython2",
   "version": "2.7.12"
  }
 },
 "nbformat": 4,
 "nbformat_minor": 0
}
